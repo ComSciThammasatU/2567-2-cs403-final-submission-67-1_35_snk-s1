{
 "cells": [
  {
   "cell_type": "code",
   "execution_count": 3,
   "id": "6e765ec4-3fca-468a-87e1-cc2281ef919e",
   "metadata": {},
   "outputs": [],
   "source": [
    "import pytesseract\n",
    "\n",
    "pytesseract.pytesseract.tesseract_cmd = r\"C:\\Program Files\\Tesseract-OCR\\tesseract.exe\""
   ]
  },
  {
   "cell_type": "code",
   "execution_count": 6,
   "id": "4da75014-c033-4546-8bfc-8af8405a68d0",
   "metadata": {
    "scrolled": true
   },
   "outputs": [
    {
     "name": "stdout",
     "output_type": "stream",
     "text": [
      "Requirement already satisfied: pytesseract in c:\\users\\user\\appdata\\local\\programs\\python\\python313\\lib\\site-packages (0.3.13)Note: you may need to restart the kernel to use updated packages.\n",
      "\n",
      "Requirement already satisfied: packaging>=21.3 in c:\\users\\user\\appdata\\local\\programs\\python\\python313\\lib\\site-packages (from pytesseract) (24.2)\n",
      "Requirement already satisfied: Pillow>=8.0.0 in c:\\users\\user\\appdata\\local\\programs\\python\\python313\\lib\\site-packages (from pytesseract) (11.0.0)\n"
     ]
    }
   ],
   "source": [
    "pip install pytesseract"
   ]
  },
  {
   "cell_type": "code",
   "execution_count": 2,
   "id": "100326d9-28a9-4ffe-8870-00f863d9a408",
   "metadata": {
    "scrolled": true
   },
   "outputs": [
    {
     "name": "stdout",
     "output_type": "stream",
     "text": [
      "Diagnosed\n",
      "\n",
      "Jan: Bedriddien\n",
      "secondary                               --                                                                               extreme fatigue,\n",
      "เกทรทอททอย,                         daiy products (resolved                 Diagnosed psychogenic                            age 28\n",
      "cage 16                                        ronie sinus                            olydipsia (compulsive\n",
      "ลอลมม                               water drinking)                              July: Diagnosed\n",
      "Began femole                           Diagnosed congenital                                                                                  ME/CFS &\n",
      "hormones                        neutropenia &                      Began thyroid                       refered to\n",
      "(sporadic ~10 years)                              ‘osteopenia                                     medication                                 theumatologist\n",
      "1980s                                    2005                                    2010                                     2012\n",
      "Late                    2009                    2011                    2013\n",
      "1990s/\n",
      "Early\n",
      "Diagnosed            2000s ร5บตลทรส ~6 tick                        Began experiencing                      Began menstruation\n",
      "chronic sinusitis                                   bites in                            ‘worsening Gl symptoms,                      at age 28 after 12\n",
      "Central America                  severe coldness, & abnormal               years of amenothea\n",
      "Began antibiotics                                                                                        fatigue\n",
      "allergy shots\n",
      "(ongoing ~ 20\n",
      "years)\n",
      "\n",
      "Stopped consuming gluten\n",
      "due to HLA DQ2+ gene\n",
      "(partially resolved GI\n",
      "symptoms)\n",
      "\n"
     ]
    }
   ],
   "source": [
    "import pytesseract\n",
    "from PIL import Image, ImageEnhance\n",
    "\n",
    "# กำหนด path ของ Tesseract (ถ้าใช้ Windows)\n",
    "pytesseract.pytesseract.tesseract_cmd = r\"C:\\Program Files\\Tesseract-OCR\\tesseract.exe\"  # สำหรับ Windows\n",
    "\n",
    "#เปิดไฟล์ภาพ\n",
    "img = Image.open('info50_Medicalhistory.png')\n",
    "\n",
    "#แปลงภาพเป็นขาวดำ (Grayscale)\n",
    "img_gray = img.convert('L')\n",
    "\n",
    "#ปรับความคมชัด (Enhance Contrast)\n",
    "enhancer = ImageEnhance.Contrast(img_gray)\n",
    "img_contrast = enhancer.enhance(2)  # ปรับค่าความคมชัด\n",
    "\n",
    "#ใช้ pytesseract แปลงข้อความทั้งภาษาไทยและภาษาอังกฤษ\n",
    "text = pytesseract.image_to_string(img_contrast, lang='tha+eng')\n",
    "\n",
    "#แสดงข้อความที่ได้\n",
    "print(text)"
   ]
  }
 ],
 "metadata": {
  "kernelspec": {
   "display_name": "Python 3 (ipykernel)",
   "language": "python",
   "name": "python3"
  },
  "language_info": {
   "codemirror_mode": {
    "name": "ipython",
    "version": 3
   },
   "file_extension": ".py",
   "mimetype": "text/x-python",
   "name": "python",
   "nbconvert_exporter": "python",
   "pygments_lexer": "ipython3",
   "version": "3.13.1"
  }
 },
 "nbformat": 4,
 "nbformat_minor": 5
}
